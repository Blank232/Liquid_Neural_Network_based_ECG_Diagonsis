{
 "cells": [
  {
   "cell_type": "code",
   "execution_count": 1,
   "id": "76ff4df4-4f30-4b5c-9e94-ece755883477",
   "metadata": {},
   "outputs": [],
   "source": [
    "# Import necessary libraries\n",
    "import os\n",
    "import numpy as np\n",
    "import matplotlib.pyplot as plt\n",
    "import wfdb\n",
    "from sklearn.model_selection import train_test_split\n",
    "from sklearn.preprocessing import StandardScaler\n",
    "from sklearn.metrics import accuracy_score, classification_report, confusion_matrix\n",
    "import seaborn as sns\n",
    "import torch\n",
    "import torch.nn as nn\n",
    "import torch.optim as optim\n",
    "from torch.utils.data import Dataset, DataLoader"
   ]
  },
  {
   "cell_type": "code",
   "execution_count": 2,
   "id": "e3fc3825-11fd-4947-a1de-3be271b97fbb",
   "metadata": {},
   "outputs": [],
   "source": [
    "# Set dataset path\n",
    "DATA_PATH = r\"C:\\Users\\DumDum\\anaconda3\\Projects\\LNN\\ptb-diagnostic-ecg-database-1.0.0\""
   ]
  },
  {
   "cell_type": "code",
   "execution_count": 3,
   "id": "8e1a40d7-110f-4a70-97bd-3a4dab80d094",
   "metadata": {},
   "outputs": [],
   "source": [
    "# Function to load ECG data\n",
    "def load_ecg_data(path):\n",
    "    data, labels = [], []\n",
    "    \n",
    "    for patient_folder in os.listdir(path):\n",
    "        patient_path = os.path.join(path, patient_folder)\n",
    "        if os.path.isdir(patient_path):\n",
    "            for file in os.listdir(patient_path):\n",
    "                if file.endswith(\".hea\"):\n",
    "                    record_path = os.path.join(patient_path, file[:-4])\n",
    "                    try:\n",
    "                        signals, fields = wfdb.rdsamp(record_path)\n",
    "                        # Label: 1 for Myocardial Infarction (MI), 0 for Normal\n",
    "                        label = 1 if any(\"Myocardial infarction\" in comment for comment in fields.get('comments', [])) else 0\n",
    "                        data.append(signals)\n",
    "                        labels.append(label)\n",
    "                    except FileNotFoundError:\n",
    "                        print(f\"File not found: {record_path}\")\n",
    "                    except Exception as e:\n",
    "                        print(f\"Error loading file {record_path}: {e}\")\n",
    "    \n",
    "    # Padding to maximum sequence length\n",
    "    max_length = max(len(ecg) for ecg in data)\n",
    "    data_padded = [np.pad(ecg, ((0, max_length - len(ecg)), (0, 0)), mode='constant') for ecg in data]\n",
    "    \n",
    "    return np.array(data_padded), np.array(labels)"
   ]
  },
  {
   "cell_type": "code",
   "execution_count": 4,
   "id": "dde6a20a-0a87-4104-9453-7d0c3405920e",
   "metadata": {},
   "outputs": [
    {
     "name": "stdout",
     "output_type": "stream",
     "text": [
      "File not found: C:\\Users\\DumDum\\anaconda3\\Projects\\LNN\\ptb-diagnostic-ecg-database-1.0.0\\patient066\\s0225lre\n",
      "File not found: C:\\Users\\DumDum\\anaconda3\\Projects\\LNN\\ptb-diagnostic-ecg-database-1.0.0\\patient066\\s0231lre\n"
     ]
    }
   ],
   "source": [
    "# Load dataset\n",
    "ecgs, labels = load_ecg_data(DATA_PATH)"
   ]
  },
  {
   "cell_type": "code",
   "execution_count": 5,
   "id": "f902cba8-541f-4899-a75c-17604b910323",
   "metadata": {},
   "outputs": [],
   "source": [
    "# Preprocess data: Normalization\n",
    "def preprocess_data(ecgs):\n",
    "    scaler = StandardScaler()\n",
    "    reshaped_data = ecgs.reshape(ecgs.shape[0], -1)  # Flatten ECG signals\n",
    "    normalized_data = scaler.fit_transform(reshaped_data)\n",
    "    return normalized_data\n",
    "\n",
    "X = preprocess_data(ecgs)\n",
    "Y = labels"
   ]
  },
  {
   "cell_type": "code",
   "execution_count": 6,
   "id": "21bb3cd8-88b9-4158-b485-c6a753a31209",
   "metadata": {},
   "outputs": [],
   "source": [
    "# Split dataset\n",
    "X_train, X_test, Y_train, Y_test = train_test_split(X, Y, test_size=0.2, random_state=42)"
   ]
  },
  {
   "cell_type": "code",
   "execution_count": 7,
   "id": "813c695a-ecd1-46a1-8485-2c22bb28bbe3",
   "metadata": {},
   "outputs": [],
   "source": [
    "# Convert to tensors\n",
    "X_train_tensor = torch.tensor(X_train, dtype=torch.float32)\n",
    "Y_train_tensor = torch.tensor(Y_train, dtype=torch.long)\n",
    "X_test_tensor = torch.tensor(X_test, dtype=torch.float32)\n",
    "Y_test_tensor = torch.tensor(Y_test, dtype=torch.long)"
   ]
  },
  {
   "cell_type": "code",
   "execution_count": 8,
   "id": "a49f4d22-27fa-4a22-a033-292b6e339989",
   "metadata": {},
   "outputs": [],
   "source": [
    "# Create PyTorch Dataset & DataLoader\n",
    "class ECGDataset(Dataset):\n",
    "    def __init__(self, X, Y):\n",
    "        self.X = X\n",
    "        self.Y = Y\n",
    "    def __len__(self):\n",
    "        return len(self.Y)\n",
    "    def __getitem__(self, idx):\n",
    "        return self.X[idx], self.Y[idx]"
   ]
  },
  {
   "cell_type": "code",
   "execution_count": 9,
   "id": "502adbda-0df1-4121-b493-4f66c344b52b",
   "metadata": {},
   "outputs": [],
   "source": [
    "train_dataset = ECGDataset(X_train_tensor, Y_train_tensor)\n",
    "test_dataset = ECGDataset(X_test_tensor, Y_test_tensor)\n",
    "train_loader = DataLoader(train_dataset, batch_size=32, shuffle=True)\n",
    "test_loader = DataLoader(test_dataset, batch_size=32, shuffle=False)"
   ]
  },
  {
   "cell_type": "code",
   "execution_count": 10,
   "id": "13bb2296-fe87-491b-ad7a-91fee61aef0d",
   "metadata": {},
   "outputs": [],
   "source": [
    "# Define Liquid Neural Network Model with LSTM\n",
    "class LiquidNN(nn.Module):\n",
    "    def __init__(self, input_size):\n",
    "        super(LiquidNN, self).__init__()\n",
    "        self.liquid_layer = nn.Linear(input_size, 128)  # Liquid Layer\n",
    "        self.bn1 = nn.BatchNorm1d(128)\n",
    "        self.lstm = nn.LSTM(128, 64, batch_first=True, num_layers=2, dropout=0.3)  # LSTM Layer\n",
    "        self.fc = nn.Linear(64, 2)  # Output layer (Binary classification)\n",
    "        self.relu = nn.ReLU()\n",
    "        self.dropout = nn.Dropout(0.3)\n",
    "\n",
    "    def forward(self, x):\n",
    "        x = self.relu(self.bn1(self.liquid_layer(x)))\n",
    "        x, _ = self.lstm(x.unsqueeze(1))  # Add batch dimension\n",
    "        x = self.dropout(x[:, -1, :])  # Get last timestep output\n",
    "        x = self.fc(x)\n",
    "        return x"
   ]
  },
  {
   "cell_type": "code",
   "execution_count": 11,
   "id": "92bb9ef1-b03b-4143-96d7-370d4c5045a7",
   "metadata": {},
   "outputs": [],
   "source": [
    "# Instantiate model, loss function, optimizer\n",
    "model = LiquidNN(input_size=X.shape[1])\n",
    "criterion = nn.CrossEntropyLoss()\n",
    "optimizer = optim.AdamW(model.parameters(), lr=0.0005)"
   ]
  },
  {
   "cell_type": "code",
   "execution_count": 12,
   "id": "8f1ca7b6-9a13-44ab-aab8-cddc76d6dc5d",
   "metadata": {},
   "outputs": [],
   "source": [
    "# Training function\n",
    "def train_model(model, train_loader, criterion, optimizer, epochs=50):\n",
    "    model.train()\n",
    "    train_losses = []\n",
    "    \n",
    "    for epoch in range(epochs):\n",
    "        total_loss = 0\n",
    "        for X_batch, Y_batch in train_loader:\n",
    "            optimizer.zero_grad()\n",
    "            outputs = model(X_batch)\n",
    "            loss = criterion(outputs, Y_batch)\n",
    "            loss.backward()\n",
    "            optimizer.step()\n",
    "            total_loss += loss.item()\n",
    "        \n",
    "        avg_loss = total_loss / len(train_loader)\n",
    "        train_losses.append(avg_loss)\n",
    "        print(f\"Epoch {epoch+1}/{epochs}, Loss: {avg_loss:.4f}\")\n",
    "    \n",
    "    return train_losses"
   ]
  },
  {
   "cell_type": "code",
   "execution_count": 13,
   "id": "a23f3d18-5a20-426a-8ffc-68d66f5dad7d",
   "metadata": {},
   "outputs": [
    {
     "name": "stdout",
     "output_type": "stream",
     "text": [
      "Epoch 1/50, Loss: 0.6612\n",
      "Epoch 2/50, Loss: 0.6510\n",
      "Epoch 3/50, Loss: 0.6376\n",
      "Epoch 4/50, Loss: 0.6201\n",
      "Epoch 5/50, Loss: 0.6039\n",
      "Epoch 6/50, Loss: 0.5780\n",
      "Epoch 7/50, Loss: 0.5560\n",
      "Epoch 8/50, Loss: 0.5245\n",
      "Epoch 9/50, Loss: 0.4909\n",
      "Epoch 10/50, Loss: 0.4398\n",
      "Epoch 11/50, Loss: 0.3871\n",
      "Epoch 12/50, Loss: 0.3475\n",
      "Epoch 13/50, Loss: 0.2786\n",
      "Epoch 14/50, Loss: 0.2270\n",
      "Epoch 15/50, Loss: 0.1534\n",
      "Epoch 16/50, Loss: 0.1294\n",
      "Epoch 17/50, Loss: 0.1219\n",
      "Epoch 18/50, Loss: 0.1122\n",
      "Epoch 19/50, Loss: 0.1491\n",
      "Epoch 20/50, Loss: 0.0831\n",
      "Epoch 21/50, Loss: 0.0809\n",
      "Epoch 22/50, Loss: 0.0503\n",
      "Epoch 23/50, Loss: 0.0386\n",
      "Epoch 24/50, Loss: 0.0764\n",
      "Epoch 25/50, Loss: 0.1388\n",
      "Epoch 26/50, Loss: 0.1680\n",
      "Epoch 27/50, Loss: 0.1477\n",
      "Epoch 28/50, Loss: 0.1206\n",
      "Epoch 29/50, Loss: 0.0424\n",
      "Epoch 30/50, Loss: 0.0343\n",
      "Epoch 31/50, Loss: 0.0260\n",
      "Epoch 32/50, Loss: 0.0204\n",
      "Epoch 33/50, Loss: 0.0121\n",
      "Epoch 34/50, Loss: 0.0175\n",
      "Epoch 35/50, Loss: 0.0154\n",
      "Epoch 36/50, Loss: 0.0285\n",
      "Epoch 37/50, Loss: 0.0359\n",
      "Epoch 38/50, Loss: 0.0158\n",
      "Epoch 39/50, Loss: 0.0077\n",
      "Epoch 40/50, Loss: 0.0085\n",
      "Epoch 41/50, Loss: 0.0119\n",
      "Epoch 42/50, Loss: 0.0078\n",
      "Epoch 43/50, Loss: 0.0057\n",
      "Epoch 44/50, Loss: 0.0248\n",
      "Epoch 45/50, Loss: 0.0045\n",
      "Epoch 46/50, Loss: 0.0027\n",
      "Epoch 47/50, Loss: 0.0021\n",
      "Epoch 48/50, Loss: 0.0107\n",
      "Epoch 49/50, Loss: 0.0082\n",
      "Epoch 50/50, Loss: 0.0402\n"
     ]
    }
   ],
   "source": [
    "# Train the model\n",
    "train_losses = train_model(model, train_loader, criterion, optimizer)"
   ]
  },
  {
   "cell_type": "code",
   "execution_count": 14,
   "id": "5a990080-6623-4198-b292-7b35998b6385",
   "metadata": {},
   "outputs": [
    {
     "data": {
      "image/png": "[encoded data removed]",
      "text/plain": [
       "<Figure size 640x480 with 1 Axes>"
      ]
     },
     "metadata": {},
     "output_type": "display_data"
    }
   ],
   "source": [
    "# Plot training loss curve\n",
    "plt.plot(train_losses, label=\"Training Loss\")\n",
    "plt.xlabel(\"Epochs\")\n",
    "plt.ylabel(\"Loss\")\n",
    "plt.title(\"Training Loss Curve\")\n",
    "plt.legend()\n",
    "plt.show()"
   ]
  },
  {
   "cell_type": "code",
   "execution_count": 15,
   "id": "1d7d0a6b-919a-4023-a48f-368c5c040a13",
   "metadata": {},
   "outputs": [],
   "source": [
    "# Evaluation function\n",
    "def evaluate_model(model, test_loader):\n",
    "    model.eval()\n",
    "    Y_pred, Y_true = [], []\n",
    "    \n",
    "    with torch.no_grad():\n",
    "        for X_batch, Y_batch in test_loader:\n",
    "            outputs = model(X_batch)\n",
    "            _, predicted = torch.max(outputs, 1)\n",
    "            Y_pred.extend(predicted.numpy())\n",
    "            Y_true.extend(Y_batch.numpy())\n",
    "    \n",
    "    acc = accuracy_score(Y_true, Y_pred)\n",
    "    print(\"Accuracy:\", acc)\n",
    "    print(\"Classification Report:\\n\", classification_report(Y_true, Y_pred))\n",
    "        \n",
    "    # Plot confusion matrix\n",
    "    cm = confusion_matrix(Y_true, Y_pred)\n",
    "    plt.figure(figsize=(6, 6))\n",
    "    sns.heatmap(cm, annot=True, fmt=\"d\", cmap=\"Blues\", xticklabels=[\"Normal\", \"MI\"], yticklabels=[\"Normal\", \"MI\"])\n",
    "    plt.xlabel(\"Predicted\")\n",
    "    plt.ylabel(\"Actual\")\n",
    "    plt.title(\"Confusion Matrix\")\n",
    "    plt.show()\n",
    "    \n",
    "    return acc"
   ]
  },
  {
   "cell_type": "code",
   "execution_count": 16,
   "id": "18265a80-2487-4c34-a8cb-dbc8490c5a8b",
   "metadata": {},
   "outputs": [
    {
     "name": "stdout",
     "output_type": "stream",
     "text": [
      "Accuracy: 0.7115384615384616\n",
      "Classification Report:\n",
      "               precision    recall  f1-score   support\n",
      "\n",
      "           0       0.53      0.59      0.56        32\n",
      "           1       0.81      0.76      0.79        72\n",
      "\n",
      "    accuracy                           0.71       104\n",
      "   macro avg       0.67      0.68      0.67       104\n",
      "weighted avg       0.72      0.71      0.72       104\n",
      "\n"
     ]
    },
    {
     "data": {
      "image/png": "[encoded data removed]",
      "text/plain": [
       "<Figure size 600x600 with 2 Axes>"
      ]
     },
     "metadata": {},
     "output_type": "display_data"
    },
    {
     "data": {
      "text/plain": [
       "0.7115384615384616"
      ]
     },
     "execution_count": 16,
     "metadata": {},
     "output_type": "execute_result"
    }
   ],
   "source": [
    "# Evaluate model\n",
    "evaluate_model(model, test_loader)"
   ]
  }
 ],
 "metadata": {
  "kernelspec": {
   "display_name": "Python 3 (ipykernel)",
   "language": "python",
   "name": "python3"
  },
  "language_info": {
   "codemirror_mode": {
    "name": "ipython",
    "version": 3
   },
   "file_extension": ".py",
   "mimetype": "text/x-python",
   "name": "python",
   "nbconvert_exporter": "python",
   "pygments_lexer": "ipython3",
   "version": "3.12.7"
  }
 },
 "nbformat": 4,
 "nbformat_minor": 5
}
